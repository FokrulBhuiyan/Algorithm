{
  "nbformat": 4,
  "nbformat_minor": 0,
  "metadata": {
    "colab": {
      "name": "Top Repo From Github Topics P-1.ipynb",
      "provenance": [],
      "collapsed_sections": [],
      "authorship_tag": "ABX9TyOE+8KrdjEmDndTL7HW5q4E",
      "include_colab_link": true
    },
    "kernelspec": {
      "name": "python3",
      "display_name": "Python 3"
    },
    "language_info": {
      "name": "python"
    }
  },
  "cells": [
    {
      "cell_type": "markdown",
      "metadata": {
        "id": "view-in-github",
        "colab_type": "text"
      },
      "source": [
        "<a href=\"https://colab.research.google.com/github/FokrulBhuiyan/Algorithm/blob/master/Top_Repo_From_Github_Topics_P_1.ipynb\" target=\"_parent\"><img src=\"https://colab.research.google.com/assets/colab-badge.svg\" alt=\"Open In Colab\"/></a>"
      ]
    },
    {
      "cell_type": "markdown",
      "metadata": {
        "id": "uVvAFXBd3f4e"
      },
      "source": [
        "# Top Repositories For Github Topics\n",
        "\n",
        "Project outline\n",
        "\n",
        "- scrape URL: https://github.com/topics\n",
        "- topic title, URL and Description\n",
        "- top 20 repositpories from each topics\n",
        "- grab repo name,username, stars and URL\n"
      ]
    },
    {
      "cell_type": "markdown",
      "metadata": {
        "id": "Zcrx1Y9L3o2B"
      },
      "source": [
        "## Pick a site and describe\n",
        "\n",
        "1. browse\n",
        "2. Identify info\n",
        "3. Summarize"
      ]
    },
    {
      "cell_type": "markdown",
      "metadata": {
        "id": "4UpTu8kW1beH"
      },
      "source": [
        "## Request lib to download\n",
        "\n",
        "1. identify the URL\n",
        "2. save Page\n",
        "3. create func for automate downlonding"
      ]
    },
    {
      "cell_type": "code",
      "metadata": {
        "id": "MDmY0mqy3nHR",
        "colab": {
          "base_uri": "https://localhost:8080/"
        },
        "outputId": "7f812878-51f4-4551-930f-b1f90d7a82f3"
      },
      "source": [
        "!pip install requests"
      ],
      "execution_count": null,
      "outputs": [
        {
          "output_type": "stream",
          "text": [
            "Requirement already satisfied: requests in /usr/local/lib/python3.7/dist-packages (2.23.0)\n",
            "Requirement already satisfied: urllib3!=1.25.0,!=1.25.1,<1.26,>=1.21.1 in /usr/local/lib/python3.7/dist-packages (from requests) (1.24.3)\n",
            "Requirement already satisfied: chardet<4,>=3.0.2 in /usr/local/lib/python3.7/dist-packages (from requests) (3.0.4)\n",
            "Requirement already satisfied: idna<3,>=2.5 in /usr/local/lib/python3.7/dist-packages (from requests) (2.10)\n",
            "Requirement already satisfied: certifi>=2017.4.17 in /usr/local/lib/python3.7/dist-packages (from requests) (2020.12.5)\n"
          ],
          "name": "stdout"
        }
      ]
    },
    {
      "cell_type": "code",
      "metadata": {
        "id": "kn_cpZXC53Eh"
      },
      "source": [
        "import requests"
      ],
      "execution_count": null,
      "outputs": []
    },
    {
      "cell_type": "code",
      "metadata": {
        "id": "0y3MSveR53BP"
      },
      "source": [
        "topics_url = 'https://github.com/topics'"
      ],
      "execution_count": null,
      "outputs": []
    },
    {
      "cell_type": "code",
      "metadata": {
        "id": "9A_SIaZB52-c"
      },
      "source": [
        "resp = requests.get(topics_url)"
      ],
      "execution_count": null,
      "outputs": []
    },
    {
      "cell_type": "code",
      "metadata": {
        "colab": {
          "base_uri": "https://localhost:8080/"
        },
        "id": "NcNY9qLZ6Fuh",
        "outputId": "b84d7bd1-c88f-418c-e3ca-0ba4e403e2b7"
      },
      "source": [
        "len(resp.text)"
      ],
      "execution_count": null,
      "outputs": [
        {
          "output_type": "execute_result",
          "data": {
            "text/plain": [
              "126663"
            ]
          },
          "metadata": {
            "tags": []
          },
          "execution_count": 7
        }
      ]
    },
    {
      "cell_type": "code",
      "metadata": {
        "colab": {
          "base_uri": "https://localhost:8080/",
          "height": 124
        },
        "id": "iRjZnR5E6Frx",
        "outputId": "0d51e21b-f7aa-4691-b5b8-463085deb790"
      },
      "source": [
        "page_content = resp.text\n",
        "page_content[:1000]"
      ],
      "execution_count": null,
      "outputs": [
        {
          "output_type": "execute_result",
          "data": {
            "application/vnd.google.colaboratory.intrinsic+json": {
              "type": "string"
            },
            "text/plain": [
              "'\\n\\n<!DOCTYPE html>\\n<html lang=\"en\" >\\n  <head>\\n    <meta charset=\"utf-8\">\\n  <link rel=\"dns-prefetch\" href=\"https://github.githubassets.com\">\\n  <link rel=\"dns-prefetch\" href=\"https://avatars.githubusercontent.com\">\\n  <link rel=\"dns-prefetch\" href=\"https://github-cloud.s3.amazonaws.com\">\\n  <link rel=\"dns-prefetch\" href=\"https://user-images.githubusercontent.com/\">\\n\\n\\n\\n  <link crossorigin=\"anonymous\" media=\"all\" integrity=\"sha512-7KjiGvJiLLy6LJPGf3m67ejAdgQsgDdnxZYoaI6+Agd0ZxHKTCjoKZgaf3PgUjURCcVceAwySJJJWgitRskDiA==\" rel=\"stylesheet\" href=\"https://github.githubassets.com/assets/frameworks-eca8e21af2622cbcba2c93c67f79baed.css\" />\\n    <link crossorigin=\"anonymous\" media=\"all\" integrity=\"sha512-8b7omPlP/yEmgGwzty07UCWwxjJLdNp3WAiXPEnS7mZvEvNKdiuLXT681i7qJujik30dRviXyNkKAz9F4w94UA==\" rel=\"stylesheet\" href=\"https://github.githubassets.com/assets/behaviors-f1bee898f94fff2126806c33b72d3b50.css\" />\\n    \\n    \\n    \\n    <link crossorigin=\"anonymous\" media=\"all\" integrity=\"sha512-ro9l8R8YQKHa4EUvWwK5w7'"
            ]
          },
          "metadata": {
            "tags": []
          },
          "execution_count": 8
        }
      ]
    },
    {
      "cell_type": "code",
      "metadata": {
        "id": "fSDqr2qA6Foy"
      },
      "source": [
        "with open('webpage.html','w') as f:\n",
        "    f.write(page_content)"
      ],
      "execution_count": null,
      "outputs": []
    },
    {
      "cell_type": "code",
      "metadata": {
        "id": "7wOI4uTY526c"
      },
      "source": [
        ""
      ],
      "execution_count": null,
      "outputs": []
    },
    {
      "cell_type": "markdown",
      "metadata": {
        "id": "j2FWh3R410bG"
      },
      "source": [
        "## Beautiful soup\n",
        "1. structure the page\n",
        "2. extract info\n",
        "3. create func for keeping info in dict/list\n",
        "4. Use REST API if necessery. "
      ]
    },
    {
      "cell_type": "code",
      "metadata": {
        "id": "afNusiQa1zLM",
        "colab": {
          "base_uri": "https://localhost:8080/"
        },
        "outputId": "9bc51ac2-4494-4a75-dfeb-5b9905a44b5d"
      },
      "source": [
        "!pip install beautifulsoup4 "
      ],
      "execution_count": null,
      "outputs": [
        {
          "output_type": "stream",
          "text": [
            "Requirement already satisfied: beautifulsoup4 in /usr/local/lib/python3.7/dist-packages (4.6.3)\n"
          ],
          "name": "stdout"
        }
      ]
    },
    {
      "cell_type": "code",
      "metadata": {
        "id": "WIGdik-55396"
      },
      "source": [
        "from bs4 import BeautifulSoup"
      ],
      "execution_count": null,
      "outputs": []
    },
    {
      "cell_type": "code",
      "metadata": {
        "id": "KF4_pzO_537F"
      },
      "source": [
        "page_doc = BeautifulSoup(page_content, 'html.parser')"
      ],
      "execution_count": null,
      "outputs": []
    },
    {
      "cell_type": "code",
      "metadata": {
        "id": "yH3cCVfcmivl"
      },
      "source": [
        "import pandas as pd"
      ],
      "execution_count": null,
      "outputs": []
    },
    {
      "cell_type": "code",
      "metadata": {
        "id": "4BTTnSHl531U"
      },
      "source": [
        ""
      ],
      "execution_count": null,
      "outputs": []
    },
    {
      "cell_type": "markdown",
      "metadata": {
        "id": "KQapu0nV2ggU"
      },
      "source": [
        "## CSV file(s)\n",
        "\n",
        "1. save info in CSV\n",
        "2. verify the csv file with pandas"
      ]
    },
    {
      "cell_type": "code",
      "metadata": {
        "id": "V9lMX_Vv1ziH"
      },
      "source": [
        ""
      ],
      "execution_count": null,
      "outputs": []
    },
    {
      "cell_type": "markdown",
      "metadata": {
        "id": "ML7OsYrSTjFL"
      },
      "source": [
        "## Get Info of each topic"
      ]
    },
    {
      "cell_type": "code",
      "metadata": {
        "id": "vYqXYhIwQm-7"
      },
      "source": [
        "import os\n",
        "def get_topic_page(topic_url):\n",
        "    resp = requests.get(topic_url)\n",
        "    if resp.status_code!=200:\n",
        "        raise Exception(f'Failed to load{topic_url}')\n",
        "    html_doc =  BeautifulSoup(resp.text,'html.parser')\n",
        "    return html_doc\n",
        "\n",
        "def get_repo_info(h1_tag,star_tag ):\n",
        "    a_tags = h1_tag.find_all('a')\n",
        "    username = a_tags[0].text.strip()\n",
        "    repo_name =  a_tags[1].text.strip()\n",
        "    repo_url = 'https://github.com'+a_tags[1]['href']\n",
        "    stars = star_tag.text.strip()\n",
        "    return username,repo_name,stars,repo_url\n",
        "\n",
        "def get_topic_repo(html_doc):\n",
        "    topic_repo_tags = html_doc.find_all('h1',{'class': 'f3 color-text-secondary text-normal lh-condensed'})\n",
        "    star_tags =  html_doc.find_all('a',{'class': 'social-count float-none'})\n",
        "\n",
        "    topic_repo_dict= {'username':[], 'repo_title': [], 'stars':[], 'repo_url':[],}\n",
        "    for i in range(len(topic_repo_tags)):\n",
        "        repo_info = get_repo_info(topic_repo_tags[i],star_tags[i])\n",
        "        topic_repo_dict['username'].append(repo_info[0])\n",
        "        topic_repo_dict['repo_title'].append(repo_info[1])\n",
        "        topic_repo_dict['stars'].append(repo_info[2])\n",
        "        topic_repo_dict['repo_url'].append(repo_info[3])\n",
        "    return pd.DataFrame(topic_repo_dict)\n",
        "\n",
        "def scrape_each_topic(topic_url, path):\n",
        "    \n",
        "    if os.path.exists(path):\n",
        "        print(f'{path} File is exist.Skipping...')\n",
        "        return\n",
        "    topic_df = get_topic_repo(get_topic_page(topic_url))\n",
        "    topic_df.to_csv(path,index=None)"
      ],
      "execution_count": null,
      "outputs": []
    },
    {
      "cell_type": "markdown",
      "metadata": {
        "id": "k70t3HEkLE7S"
      },
      "source": [
        "Write a func to:\n",
        "1. get the list from topics page\n",
        "2. get the top repo list from individual topic page\n",
        "3. create CSV of the top repo for each topic "
      ]
    },
    {
      "cell_type": "code",
      "metadata": {
        "id": "f4oDFvNLTLPK"
      },
      "source": [
        "def get_topic_titles(doc):\n",
        "    topic_title_tag = doc.find_all('p',{'class':'f3 lh-condensed mb-0 mt-1 Link--primary'})\n",
        "    topic_titles = []\n",
        "    for title in topic_title_tag:\n",
        "        topic_titles.append(title.text)\n",
        "    return topic_titles\n",
        "\n",
        "def get_topic_desc(doc):\n",
        "    topic_desc_tag = doc.find_all('p',{'class':'f5 color-text-secondary mb-0 mt-1'})\n",
        "    topic_desc = []\n",
        "    for desc in topic_desc_tag:\n",
        "        topic_desc.append(desc.text.strip())\n",
        "    return topic_desc\n",
        "\n",
        "def get_topic_link(doc):\n",
        "    topic_link_tag = doc.find_all('a',{'class': 'd-flex no-underline'})\n",
        "    topic_url = []\n",
        "    for url in topic_link_tag:\n",
        "        topic_url.append(\"https://github.com\"+url['href'])\n",
        "    return topic_url\n",
        "    \n",
        "def scrape_topics():\n",
        "    topics_url = 'https://github.com/topics'\n",
        "    resp = requests.get(topics_url)\n",
        "    if resp.status_code!=200:\n",
        "        raise Exception(f'Failed to load{topics_url}')\n",
        "    html_doc =  BeautifulSoup(resp.text,'html.parser')\n",
        "    \n",
        "    topics_dict = {\n",
        "        'title' : get_topic_titles(html_doc),\n",
        "        'desc' : get_topic_desc(html_doc),\n",
        "        'url' : get_topic_link(html_doc),\n",
        "    }\n",
        "    \n",
        "    return pd.DataFrame(topics_dict)\n",
        "# def scrape_topics_repo():"
      ],
      "execution_count": null,
      "outputs": []
    },
    {
      "cell_type": "code",
      "metadata": {
        "id": "DGFu456kQO7h"
      },
      "source": [
        "def scrape_topics_repo():\n",
        "    topics_df = scrape_topics()\n",
        "\n",
        "    os.makedirs('data',exist_ok=True)\n",
        "\n",
        "    for i,row in topics_df.iterrows():\n",
        "        print('name: {}'.format(row[\"title\"]))\n",
        "        scrape_each_topic(row['url'], 'data/{}.csv'.format(row['title']))\n",
        "    "
      ],
      "execution_count": null,
      "outputs": []
    },
    {
      "cell_type": "code",
      "metadata": {
        "id": "CnDUA4mdN_gs"
      },
      "source": [
        "topics_df = scrape_topics()"
      ],
      "execution_count": null,
      "outputs": []
    },
    {
      "cell_type": "code",
      "metadata": {
        "id": "W1BHR8CvN_dk"
      },
      "source": [
        "topics_df"
      ],
      "execution_count": null,
      "outputs": []
    },
    {
      "cell_type": "code",
      "metadata": {
        "id": "TmC_G9RtIvFB"
      },
      "source": [
        "!zip -r /content/data.zip /content/data"
      ],
      "execution_count": null,
      "outputs": []
    },
    {
      "cell_type": "code",
      "metadata": {
        "id": "qXr23sKyN_bO"
      },
      "source": [
        " from google.colab import files\n",
        " files.download('/content/data.zip')"
      ],
      "execution_count": null,
      "outputs": []
    },
    {
      "cell_type": "code",
      "metadata": {
        "id": "BaMydysYHzHp"
      },
      "source": [
        ""
      ],
      "execution_count": null,
      "outputs": []
    }
  ]
}